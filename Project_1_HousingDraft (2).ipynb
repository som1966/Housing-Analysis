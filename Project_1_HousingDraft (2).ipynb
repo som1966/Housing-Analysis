{
  "cells": [
    {
      "cell_type": "markdown",
      "metadata": {
        "id": "lqiBd4RD6ZMd"
      },
      "source": [
        "Member: Nancy, Chisom, Jerome, Justin, Sayaka\n",
        "\n",
        "This dataset was downloaded from Kaggle.com. The data were obtained by Klenn Dungaran by scraping data from the https://www.lamudi.com.ph/ website. Lamudi is an international firm operating in the Philippines, Indonesia, and Mexico. Lamudi maintains an online platform containing real estate data on a wide variety of properties. The platform enables buyers, sellers, real estate professionals, and members of the public to connect with each other and post and find properties of interest.\n",
        "\n",
        "The dataset was posted on 20 March 2024. The dataset consists of 1,500 property records. Information on the site indicates the dataset will be updated annually. It is not possible to determine whether the data are for all areas in the Philippines or only certain geographical areas. The dataset contains records on single-family homes, townhomes, and (it appears) vacant lots. The type of property is not coded; the properties are described with a freeform textual description.\n",
        "\n",
        "There are nine variables in the dataset: description, location, price (in Philippine pesos), number of bedrooms, number of bathrooms, floor area, lot area, latitude, and longitude. Forty-nine records had missing price data; 37 records had missing floor area. It is assumed the records with missing floor area were lots with no houses. To clean the data, the observations with missing data were deleted, leaving 1,416 records for analysis. All 1,416 records had floor area, so presumably they are all dwelling units, either single-family homes or townhomes.\n",
        "\n",
        "The following research questions guided our analysis:\n",
        "\n",
        "· What is the range of prices of residential dwelling unit? (histogram)\n",
        "\n",
        "· What is the relationship between floor area and price? (scatterplot)\n",
        "\n",
        "· What are the correlations between Price_USD and Floor Area, Bathrooms and Bedrooms? (correlation)\n",
        "\n",
        "· What is the median price of the residential units? (median)\n",
        "\n",
        "The research questions will be answered by examining a subset of the file drawn randomly from the larger dataset.\n"
      ]
    },
    {
      "cell_type": "markdown",
      "metadata": {
        "id": "nHwJ5LzdrEZM"
      },
      "source": []
    },
    {
      "cell_type": "markdown",
      "metadata": {
        "id": "4RDy69SUlH8y"
      },
      "source": [
        "**Import Libraries**"
      ]
    },
    {
      "cell_type": "code",
      "execution_count": 107,
      "metadata": {
        "id": "nyb3_QeBlHk_"
      },
      "outputs": [],
      "source": [
        "import numpy as np\n",
        "import pandas as pd\n",
        "pd.options.display.float_format = '{:.2f}'.format\n",
        "import matplotlib.pyplot as plt\n",
        "import seaborn as sns"
      ]
    },
    {
      "cell_type": "markdown",
      "metadata": {
        "id": "jUAl24BelYzx"
      },
      "source": [
        "**Load csv file**"
      ]
    },
    {
      "cell_type": "code",
      "execution_count": 108,
      "metadata": {
        "colab": {
          "base_uri": "https://localhost:8080/",
          "height": 73
        },
        "id": "6GNjAFtKljlk",
        "outputId": "f0f90cd1-33cf-4e2d-cb1a-e5764bcf7324"
      },
      "outputs": [
        {
          "output_type": "display_data",
          "data": {
            "text/plain": [
              "<IPython.core.display.HTML object>"
            ],
            "text/html": [
              "\n",
              "     <input type=\"file\" id=\"files-937a57a8-a36e-4034-8f99-ad05a597dc97\" name=\"files[]\" multiple disabled\n",
              "        style=\"border:none\" />\n",
              "     <output id=\"result-937a57a8-a36e-4034-8f99-ad05a597dc97\">\n",
              "      Upload widget is only available when the cell has been executed in the\n",
              "      current browser session. Please rerun this cell to enable.\n",
              "      </output>\n",
              "      <script>// Copyright 2017 Google LLC\n",
              "//\n",
              "// Licensed under the Apache License, Version 2.0 (the \"License\");\n",
              "// you may not use this file except in compliance with the License.\n",
              "// You may obtain a copy of the License at\n",
              "//\n",
              "//      http://www.apache.org/licenses/LICENSE-2.0\n",
              "//\n",
              "// Unless required by applicable law or agreed to in writing, software\n",
              "// distributed under the License is distributed on an \"AS IS\" BASIS,\n",
              "// WITHOUT WARRANTIES OR CONDITIONS OF ANY KIND, either express or implied.\n",
              "// See the License for the specific language governing permissions and\n",
              "// limitations under the License.\n",
              "\n",
              "/**\n",
              " * @fileoverview Helpers for google.colab Python module.\n",
              " */\n",
              "(function(scope) {\n",
              "function span(text, styleAttributes = {}) {\n",
              "  const element = document.createElement('span');\n",
              "  element.textContent = text;\n",
              "  for (const key of Object.keys(styleAttributes)) {\n",
              "    element.style[key] = styleAttributes[key];\n",
              "  }\n",
              "  return element;\n",
              "}\n",
              "\n",
              "// Max number of bytes which will be uploaded at a time.\n",
              "const MAX_PAYLOAD_SIZE = 100 * 1024;\n",
              "\n",
              "function _uploadFiles(inputId, outputId) {\n",
              "  const steps = uploadFilesStep(inputId, outputId);\n",
              "  const outputElement = document.getElementById(outputId);\n",
              "  // Cache steps on the outputElement to make it available for the next call\n",
              "  // to uploadFilesContinue from Python.\n",
              "  outputElement.steps = steps;\n",
              "\n",
              "  return _uploadFilesContinue(outputId);\n",
              "}\n",
              "\n",
              "// This is roughly an async generator (not supported in the browser yet),\n",
              "// where there are multiple asynchronous steps and the Python side is going\n",
              "// to poll for completion of each step.\n",
              "// This uses a Promise to block the python side on completion of each step,\n",
              "// then passes the result of the previous step as the input to the next step.\n",
              "function _uploadFilesContinue(outputId) {\n",
              "  const outputElement = document.getElementById(outputId);\n",
              "  const steps = outputElement.steps;\n",
              "\n",
              "  const next = steps.next(outputElement.lastPromiseValue);\n",
              "  return Promise.resolve(next.value.promise).then((value) => {\n",
              "    // Cache the last promise value to make it available to the next\n",
              "    // step of the generator.\n",
              "    outputElement.lastPromiseValue = value;\n",
              "    return next.value.response;\n",
              "  });\n",
              "}\n",
              "\n",
              "/**\n",
              " * Generator function which is called between each async step of the upload\n",
              " * process.\n",
              " * @param {string} inputId Element ID of the input file picker element.\n",
              " * @param {string} outputId Element ID of the output display.\n",
              " * @return {!Iterable<!Object>} Iterable of next steps.\n",
              " */\n",
              "function* uploadFilesStep(inputId, outputId) {\n",
              "  const inputElement = document.getElementById(inputId);\n",
              "  inputElement.disabled = false;\n",
              "\n",
              "  const outputElement = document.getElementById(outputId);\n",
              "  outputElement.innerHTML = '';\n",
              "\n",
              "  const pickedPromise = new Promise((resolve) => {\n",
              "    inputElement.addEventListener('change', (e) => {\n",
              "      resolve(e.target.files);\n",
              "    });\n",
              "  });\n",
              "\n",
              "  const cancel = document.createElement('button');\n",
              "  inputElement.parentElement.appendChild(cancel);\n",
              "  cancel.textContent = 'Cancel upload';\n",
              "  const cancelPromise = new Promise((resolve) => {\n",
              "    cancel.onclick = () => {\n",
              "      resolve(null);\n",
              "    };\n",
              "  });\n",
              "\n",
              "  // Wait for the user to pick the files.\n",
              "  const files = yield {\n",
              "    promise: Promise.race([pickedPromise, cancelPromise]),\n",
              "    response: {\n",
              "      action: 'starting',\n",
              "    }\n",
              "  };\n",
              "\n",
              "  cancel.remove();\n",
              "\n",
              "  // Disable the input element since further picks are not allowed.\n",
              "  inputElement.disabled = true;\n",
              "\n",
              "  if (!files) {\n",
              "    return {\n",
              "      response: {\n",
              "        action: 'complete',\n",
              "      }\n",
              "    };\n",
              "  }\n",
              "\n",
              "  for (const file of files) {\n",
              "    const li = document.createElement('li');\n",
              "    li.append(span(file.name, {fontWeight: 'bold'}));\n",
              "    li.append(span(\n",
              "        `(${file.type || 'n/a'}) - ${file.size} bytes, ` +\n",
              "        `last modified: ${\n",
              "            file.lastModifiedDate ? file.lastModifiedDate.toLocaleDateString() :\n",
              "                                    'n/a'} - `));\n",
              "    const percent = span('0% done');\n",
              "    li.appendChild(percent);\n",
              "\n",
              "    outputElement.appendChild(li);\n",
              "\n",
              "    const fileDataPromise = new Promise((resolve) => {\n",
              "      const reader = new FileReader();\n",
              "      reader.onload = (e) => {\n",
              "        resolve(e.target.result);\n",
              "      };\n",
              "      reader.readAsArrayBuffer(file);\n",
              "    });\n",
              "    // Wait for the data to be ready.\n",
              "    let fileData = yield {\n",
              "      promise: fileDataPromise,\n",
              "      response: {\n",
              "        action: 'continue',\n",
              "      }\n",
              "    };\n",
              "\n",
              "    // Use a chunked sending to avoid message size limits. See b/62115660.\n",
              "    let position = 0;\n",
              "    do {\n",
              "      const length = Math.min(fileData.byteLength - position, MAX_PAYLOAD_SIZE);\n",
              "      const chunk = new Uint8Array(fileData, position, length);\n",
              "      position += length;\n",
              "\n",
              "      const base64 = btoa(String.fromCharCode.apply(null, chunk));\n",
              "      yield {\n",
              "        response: {\n",
              "          action: 'append',\n",
              "          file: file.name,\n",
              "          data: base64,\n",
              "        },\n",
              "      };\n",
              "\n",
              "      let percentDone = fileData.byteLength === 0 ?\n",
              "          100 :\n",
              "          Math.round((position / fileData.byteLength) * 100);\n",
              "      percent.textContent = `${percentDone}% done`;\n",
              "\n",
              "    } while (position < fileData.byteLength);\n",
              "  }\n",
              "\n",
              "  // All done.\n",
              "  yield {\n",
              "    response: {\n",
              "      action: 'complete',\n",
              "    }\n",
              "  };\n",
              "}\n",
              "\n",
              "scope.google = scope.google || {};\n",
              "scope.google.colab = scope.google.colab || {};\n",
              "scope.google.colab._files = {\n",
              "  _uploadFiles,\n",
              "  _uploadFilesContinue,\n",
              "};\n",
              "})(self);\n",
              "</script> "
            ]
          },
          "metadata": {}
        },
        {
          "output_type": "stream",
          "name": "stdout",
          "text": [
            "Saving Housing_v2.csv to Housing_v2.csv\n"
          ]
        }
      ],
      "source": [
        "  from google.colab import files\n",
        "uploaded = files.upload()"
      ]
    },
    {
      "cell_type": "markdown",
      "metadata": {
        "id": "-PFNVG3imSCf"
      },
      "source": [
        "**Create a dataframe**"
      ]
    },
    {
      "cell_type": "code",
      "execution_count": 109,
      "metadata": {
        "id": "iyWx_CiomLgG"
      },
      "outputs": [],
      "source": [
        "import io\n",
        "housing_df = pd.read_csv(io.BytesIO(uploaded[\"Housing_v2.csv\"]))"
      ]
    },
    {
      "cell_type": "markdown",
      "metadata": {
        "id": "G2-pZATdovw9"
      },
      "source": [
        "**Review Data**"
      ]
    },
    {
      "cell_type": "markdown",
      "metadata": {
        "id": "4b9S_vljCCL1"
      },
      "source": [
        "Clean dataset by changing headers to lower case and removing NAs, blanks"
      ]
    },
    {
      "cell_type": "code",
      "execution_count": 110,
      "metadata": {
        "colab": {
          "base_uri": "https://localhost:8080/",
          "height": 310
        },
        "id": "EzbokgiyCLUA",
        "outputId": "66e0ff1f-607e-43d6-d45e-c699ab687363"
      },
      "outputs": [
        {
          "output_type": "execute_result",
          "data": {
            "text/plain": [
              "                                         description  \\\n",
              "0  Preselling 2-Storey Townhouses in Village East...   \n",
              "1  Affordable House & Lot with Complete Amenities...   \n",
              "4  Futura Homes Zamboanga | Amber 2BR Townhouse E...   \n",
              "7  5BR 2-Storey House and Lot for Sale in Subic, ...   \n",
              "9  3BR 3-Storey Townhouse for Sale near Alabang i...   \n",
              "\n",
              "                                     location       price  bedrooms  \\\n",
              "0                       Santo Domingo, Cainta  9500000.00      4.00   \n",
              "1                    San Vicente, Santa Maria  4400000.00      3.00   \n",
              "4             Zambowood Rd. Boalan, Zamboanga  3275000.00      2.00   \n",
              "7                   Aningway Sacatihan, Subic  8428000.00      5.00   \n",
              "9  Km. 19 West Service Rd. Cupang, Muntinlupa 28650000.00      3.00   \n",
              "\n",
              "   bathrooms  floor area  land area  latitude  longitude  \n",
              "0       3.00      144.00     136.00     14.58     121.12  \n",
              "1       2.00       63.20      80.00     14.81     121.00  \n",
              "4       1.00       40.32      78.40      6.95     122.11  \n",
              "7       3.00      142.00     121.00     14.91     120.23  \n",
              "9       3.00      219.30      90.00     14.43     121.05  "
            ],
            "text/html": [
              "\n",
              "  <div id=\"df-844710e5-cc9c-4aec-a622-b3bc340f08b8\" class=\"colab-df-container\">\n",
              "    <div>\n",
              "<style scoped>\n",
              "    .dataframe tbody tr th:only-of-type {\n",
              "        vertical-align: middle;\n",
              "    }\n",
              "\n",
              "    .dataframe tbody tr th {\n",
              "        vertical-align: top;\n",
              "    }\n",
              "\n",
              "    .dataframe thead th {\n",
              "        text-align: right;\n",
              "    }\n",
              "</style>\n",
              "<table border=\"1\" class=\"dataframe\">\n",
              "  <thead>\n",
              "    <tr style=\"text-align: right;\">\n",
              "      <th></th>\n",
              "      <th>description</th>\n",
              "      <th>location</th>\n",
              "      <th>price</th>\n",
              "      <th>bedrooms</th>\n",
              "      <th>bathrooms</th>\n",
              "      <th>floor area</th>\n",
              "      <th>land area</th>\n",
              "      <th>latitude</th>\n",
              "      <th>longitude</th>\n",
              "    </tr>\n",
              "  </thead>\n",
              "  <tbody>\n",
              "    <tr>\n",
              "      <th>0</th>\n",
              "      <td>Preselling 2-Storey Townhouses in Village East...</td>\n",
              "      <td>Santo Domingo, Cainta</td>\n",
              "      <td>9500000.00</td>\n",
              "      <td>4.00</td>\n",
              "      <td>3.00</td>\n",
              "      <td>144.00</td>\n",
              "      <td>136.00</td>\n",
              "      <td>14.58</td>\n",
              "      <td>121.12</td>\n",
              "    </tr>\n",
              "    <tr>\n",
              "      <th>1</th>\n",
              "      <td>Affordable House &amp; Lot with Complete Amenities...</td>\n",
              "      <td>San Vicente, Santa Maria</td>\n",
              "      <td>4400000.00</td>\n",
              "      <td>3.00</td>\n",
              "      <td>2.00</td>\n",
              "      <td>63.20</td>\n",
              "      <td>80.00</td>\n",
              "      <td>14.81</td>\n",
              "      <td>121.00</td>\n",
              "    </tr>\n",
              "    <tr>\n",
              "      <th>4</th>\n",
              "      <td>Futura Homes Zamboanga | Amber 2BR Townhouse E...</td>\n",
              "      <td>Zambowood Rd. Boalan, Zamboanga</td>\n",
              "      <td>3275000.00</td>\n",
              "      <td>2.00</td>\n",
              "      <td>1.00</td>\n",
              "      <td>40.32</td>\n",
              "      <td>78.40</td>\n",
              "      <td>6.95</td>\n",
              "      <td>122.11</td>\n",
              "    </tr>\n",
              "    <tr>\n",
              "      <th>7</th>\n",
              "      <td>5BR 2-Storey House and Lot for Sale in Subic, ...</td>\n",
              "      <td>Aningway Sacatihan, Subic</td>\n",
              "      <td>8428000.00</td>\n",
              "      <td>5.00</td>\n",
              "      <td>3.00</td>\n",
              "      <td>142.00</td>\n",
              "      <td>121.00</td>\n",
              "      <td>14.91</td>\n",
              "      <td>120.23</td>\n",
              "    </tr>\n",
              "    <tr>\n",
              "      <th>9</th>\n",
              "      <td>3BR 3-Storey Townhouse for Sale near Alabang i...</td>\n",
              "      <td>Km. 19 West Service Rd. Cupang, Muntinlupa</td>\n",
              "      <td>28650000.00</td>\n",
              "      <td>3.00</td>\n",
              "      <td>3.00</td>\n",
              "      <td>219.30</td>\n",
              "      <td>90.00</td>\n",
              "      <td>14.43</td>\n",
              "      <td>121.05</td>\n",
              "    </tr>\n",
              "  </tbody>\n",
              "</table>\n",
              "</div>\n",
              "    <div class=\"colab-df-buttons\">\n",
              "\n",
              "  <div class=\"colab-df-container\">\n",
              "    <button class=\"colab-df-convert\" onclick=\"convertToInteractive('df-844710e5-cc9c-4aec-a622-b3bc340f08b8')\"\n",
              "            title=\"Convert this dataframe to an interactive table.\"\n",
              "            style=\"display:none;\">\n",
              "\n",
              "  <svg xmlns=\"http://www.w3.org/2000/svg\" height=\"24px\" viewBox=\"0 -960 960 960\">\n",
              "    <path d=\"M120-120v-720h720v720H120Zm60-500h600v-160H180v160Zm220 220h160v-160H400v160Zm0 220h160v-160H400v160ZM180-400h160v-160H180v160Zm440 0h160v-160H620v160ZM180-180h160v-160H180v160Zm440 0h160v-160H620v160Z\"/>\n",
              "  </svg>\n",
              "    </button>\n",
              "\n",
              "  <style>\n",
              "    .colab-df-container {\n",
              "      display:flex;\n",
              "      gap: 12px;\n",
              "    }\n",
              "\n",
              "    .colab-df-convert {\n",
              "      background-color: #E8F0FE;\n",
              "      border: none;\n",
              "      border-radius: 50%;\n",
              "      cursor: pointer;\n",
              "      display: none;\n",
              "      fill: #1967D2;\n",
              "      height: 32px;\n",
              "      padding: 0 0 0 0;\n",
              "      width: 32px;\n",
              "    }\n",
              "\n",
              "    .colab-df-convert:hover {\n",
              "      background-color: #E2EBFA;\n",
              "      box-shadow: 0px 1px 2px rgba(60, 64, 67, 0.3), 0px 1px 3px 1px rgba(60, 64, 67, 0.15);\n",
              "      fill: #174EA6;\n",
              "    }\n",
              "\n",
              "    .colab-df-buttons div {\n",
              "      margin-bottom: 4px;\n",
              "    }\n",
              "\n",
              "    [theme=dark] .colab-df-convert {\n",
              "      background-color: #3B4455;\n",
              "      fill: #D2E3FC;\n",
              "    }\n",
              "\n",
              "    [theme=dark] .colab-df-convert:hover {\n",
              "      background-color: #434B5C;\n",
              "      box-shadow: 0px 1px 3px 1px rgba(0, 0, 0, 0.15);\n",
              "      filter: drop-shadow(0px 1px 2px rgba(0, 0, 0, 0.3));\n",
              "      fill: #FFFFFF;\n",
              "    }\n",
              "  </style>\n",
              "\n",
              "    <script>\n",
              "      const buttonEl =\n",
              "        document.querySelector('#df-844710e5-cc9c-4aec-a622-b3bc340f08b8 button.colab-df-convert');\n",
              "      buttonEl.style.display =\n",
              "        google.colab.kernel.accessAllowed ? 'block' : 'none';\n",
              "\n",
              "      async function convertToInteractive(key) {\n",
              "        const element = document.querySelector('#df-844710e5-cc9c-4aec-a622-b3bc340f08b8');\n",
              "        const dataTable =\n",
              "          await google.colab.kernel.invokeFunction('convertToInteractive',\n",
              "                                                    [key], {});\n",
              "        if (!dataTable) return;\n",
              "\n",
              "        const docLinkHtml = 'Like what you see? Visit the ' +\n",
              "          '<a target=\"_blank\" href=https://colab.research.google.com/notebooks/data_table.ipynb>data table notebook</a>'\n",
              "          + ' to learn more about interactive tables.';\n",
              "        element.innerHTML = '';\n",
              "        dataTable['output_type'] = 'display_data';\n",
              "        await google.colab.output.renderOutput(dataTable, element);\n",
              "        const docLink = document.createElement('div');\n",
              "        docLink.innerHTML = docLinkHtml;\n",
              "        element.appendChild(docLink);\n",
              "      }\n",
              "    </script>\n",
              "  </div>\n",
              "\n",
              "\n",
              "<div id=\"df-c1f160da-cd30-4132-94b4-3edafaa94d0b\">\n",
              "  <button class=\"colab-df-quickchart\" onclick=\"quickchart('df-c1f160da-cd30-4132-94b4-3edafaa94d0b')\"\n",
              "            title=\"Suggest charts\"\n",
              "            style=\"display:none;\">\n",
              "\n",
              "<svg xmlns=\"http://www.w3.org/2000/svg\" height=\"24px\"viewBox=\"0 0 24 24\"\n",
              "     width=\"24px\">\n",
              "    <g>\n",
              "        <path d=\"M19 3H5c-1.1 0-2 .9-2 2v14c0 1.1.9 2 2 2h14c1.1 0 2-.9 2-2V5c0-1.1-.9-2-2-2zM9 17H7v-7h2v7zm4 0h-2V7h2v10zm4 0h-2v-4h2v4z\"/>\n",
              "    </g>\n",
              "</svg>\n",
              "  </button>\n",
              "\n",
              "<style>\n",
              "  .colab-df-quickchart {\n",
              "      --bg-color: #E8F0FE;\n",
              "      --fill-color: #1967D2;\n",
              "      --hover-bg-color: #E2EBFA;\n",
              "      --hover-fill-color: #174EA6;\n",
              "      --disabled-fill-color: #AAA;\n",
              "      --disabled-bg-color: #DDD;\n",
              "  }\n",
              "\n",
              "  [theme=dark] .colab-df-quickchart {\n",
              "      --bg-color: #3B4455;\n",
              "      --fill-color: #D2E3FC;\n",
              "      --hover-bg-color: #434B5C;\n",
              "      --hover-fill-color: #FFFFFF;\n",
              "      --disabled-bg-color: #3B4455;\n",
              "      --disabled-fill-color: #666;\n",
              "  }\n",
              "\n",
              "  .colab-df-quickchart {\n",
              "    background-color: var(--bg-color);\n",
              "    border: none;\n",
              "    border-radius: 50%;\n",
              "    cursor: pointer;\n",
              "    display: none;\n",
              "    fill: var(--fill-color);\n",
              "    height: 32px;\n",
              "    padding: 0;\n",
              "    width: 32px;\n",
              "  }\n",
              "\n",
              "  .colab-df-quickchart:hover {\n",
              "    background-color: var(--hover-bg-color);\n",
              "    box-shadow: 0 1px 2px rgba(60, 64, 67, 0.3), 0 1px 3px 1px rgba(60, 64, 67, 0.15);\n",
              "    fill: var(--button-hover-fill-color);\n",
              "  }\n",
              "\n",
              "  .colab-df-quickchart-complete:disabled,\n",
              "  .colab-df-quickchart-complete:disabled:hover {\n",
              "    background-color: var(--disabled-bg-color);\n",
              "    fill: var(--disabled-fill-color);\n",
              "    box-shadow: none;\n",
              "  }\n",
              "\n",
              "  .colab-df-spinner {\n",
              "    border: 2px solid var(--fill-color);\n",
              "    border-color: transparent;\n",
              "    border-bottom-color: var(--fill-color);\n",
              "    animation:\n",
              "      spin 1s steps(1) infinite;\n",
              "  }\n",
              "\n",
              "  @keyframes spin {\n",
              "    0% {\n",
              "      border-color: transparent;\n",
              "      border-bottom-color: var(--fill-color);\n",
              "      border-left-color: var(--fill-color);\n",
              "    }\n",
              "    20% {\n",
              "      border-color: transparent;\n",
              "      border-left-color: var(--fill-color);\n",
              "      border-top-color: var(--fill-color);\n",
              "    }\n",
              "    30% {\n",
              "      border-color: transparent;\n",
              "      border-left-color: var(--fill-color);\n",
              "      border-top-color: var(--fill-color);\n",
              "      border-right-color: var(--fill-color);\n",
              "    }\n",
              "    40% {\n",
              "      border-color: transparent;\n",
              "      border-right-color: var(--fill-color);\n",
              "      border-top-color: var(--fill-color);\n",
              "    }\n",
              "    60% {\n",
              "      border-color: transparent;\n",
              "      border-right-color: var(--fill-color);\n",
              "    }\n",
              "    80% {\n",
              "      border-color: transparent;\n",
              "      border-right-color: var(--fill-color);\n",
              "      border-bottom-color: var(--fill-color);\n",
              "    }\n",
              "    90% {\n",
              "      border-color: transparent;\n",
              "      border-bottom-color: var(--fill-color);\n",
              "    }\n",
              "  }\n",
              "</style>\n",
              "\n",
              "  <script>\n",
              "    async function quickchart(key) {\n",
              "      const quickchartButtonEl =\n",
              "        document.querySelector('#' + key + ' button');\n",
              "      quickchartButtonEl.disabled = true;  // To prevent multiple clicks.\n",
              "      quickchartButtonEl.classList.add('colab-df-spinner');\n",
              "      try {\n",
              "        const charts = await google.colab.kernel.invokeFunction(\n",
              "            'suggestCharts', [key], {});\n",
              "      } catch (error) {\n",
              "        console.error('Error during call to suggestCharts:', error);\n",
              "      }\n",
              "      quickchartButtonEl.classList.remove('colab-df-spinner');\n",
              "      quickchartButtonEl.classList.add('colab-df-quickchart-complete');\n",
              "    }\n",
              "    (() => {\n",
              "      let quickchartButtonEl =\n",
              "        document.querySelector('#df-c1f160da-cd30-4132-94b4-3edafaa94d0b button');\n",
              "      quickchartButtonEl.style.display =\n",
              "        google.colab.kernel.accessAllowed ? 'block' : 'none';\n",
              "    })();\n",
              "  </script>\n",
              "</div>\n",
              "\n",
              "    </div>\n",
              "  </div>\n"
            ],
            "application/vnd.google.colaboratory.intrinsic+json": {
              "type": "dataframe",
              "variable_name": "drop_na_housing_df",
              "summary": "{\n  \"name\": \"drop_na_housing_df\",\n  \"rows\": 1055,\n  \"fields\": [\n    {\n      \"column\": \"description\",\n      \"properties\": {\n        \"dtype\": \"string\",\n        \"num_unique_values\": 960,\n        \"samples\": [\n          \"2  Bedroom Home with Additions, Strong Water, Near Amenities in SN Mateo Rizal\",\n          \"For Sale: Brand New Modern Luxury 5 BR Home with Pool in Ayala Alabang\",\n          \"Brand New Tagaytay Midlands House Overlooking Taal\"\n        ],\n        \"semantic_type\": \"\",\n        \"description\": \"\"\n      }\n    },\n    {\n      \"column\": \"location\",\n      \"properties\": {\n        \"dtype\": \"category\",\n        \"num_unique_values\": 378,\n        \"samples\": [\n          \"Manuyo Dos, Las Pinas\",\n          \"Santo Nino, San Mateo\",\n          \"1 Tandang Sora, Quezon City\"\n        ],\n        \"semantic_type\": \"\",\n        \"description\": \"\"\n      }\n    },\n    {\n      \"column\": \"price\",\n      \"properties\": {\n        \"dtype\": \"number\",\n        \"std\": 87078973.52176975,\n        \"min\": 869000.0,\n        \"max\": 1200000000.0,\n        \"num_unique_values\": 617,\n        \"samples\": [\n          5282600.0,\n          7257800.0,\n          28776000.0\n        ],\n        \"semantic_type\": \"\",\n        \"description\": \"\"\n      }\n    },\n    {\n      \"column\": \"bedrooms\",\n      \"properties\": {\n        \"dtype\": \"number\",\n        \"std\": 1.2653404127915664,\n        \"min\": 1.0,\n        \"max\": 13.0,\n        \"num_unique_values\": 12,\n        \"samples\": [\n          10.0,\n          13.0,\n          4.0\n        ],\n        \"semantic_type\": \"\",\n        \"description\": \"\"\n      }\n    },\n    {\n      \"column\": \"bathrooms\",\n      \"properties\": {\n        \"dtype\": \"number\",\n        \"std\": 1.9270710638089916,\n        \"min\": 1.0,\n        \"max\": 43.0,\n        \"num_unique_values\": 16,\n        \"samples\": [\n          3.0,\n          2.0,\n          6.0\n        ],\n        \"semantic_type\": \"\",\n        \"description\": \"\"\n      }\n    },\n    {\n      \"column\": \"floor area\",\n      \"properties\": {\n        \"dtype\": \"number\",\n        \"std\": 230.84297288821315,\n        \"min\": 26.0,\n        \"max\": 1600.0,\n        \"num_unique_values\": 307,\n        \"samples\": [\n          128.0,\n          260.0,\n          135.0\n        ],\n        \"semantic_type\": \"\",\n        \"description\": \"\"\n      }\n    },\n    {\n      \"column\": \"land area\",\n      \"properties\": {\n        \"dtype\": \"number\",\n        \"std\": 573.624437849946,\n        \"min\": 27.0,\n        \"max\": 10000.0,\n        \"num_unique_values\": 325,\n        \"samples\": [\n          899.0,\n          375.0,\n          3267.0\n        ],\n        \"semantic_type\": \"\",\n        \"description\": \"\"\n      }\n    },\n    {\n      \"column\": \"latitude\",\n      \"properties\": {\n        \"dtype\": \"number\",\n        \"std\": 1.7353737370536948,\n        \"min\": 6.1280792,\n        \"max\": 16.66243945,\n        \"num_unique_values\": 379,\n        \"samples\": [\n          14.4236141,\n          9.6352488,\n          14.6292389\n        ],\n        \"semantic_type\": \"\",\n        \"description\": \"\"\n      }\n    },\n    {\n      \"column\": \"longitude\",\n      \"properties\": {\n        \"dtype\": \"number\",\n        \"std\": 0.9866264915818638,\n        \"min\": 120.2282421,\n        \"max\": 125.7396788,\n        \"num_unique_values\": 379,\n        \"samples\": [\n          121.0298739,\n          123.8487402,\n          121.0458642\n        ],\n        \"semantic_type\": \"\",\n        \"description\": \"\"\n      }\n    }\n  ]\n}"
            }
          },
          "metadata": {},
          "execution_count": 110
        }
      ],
      "source": [
        "drop_na_housing_df = housing_df.dropna()\n",
        "drop_na_housing_df.columns = drop_na_housing_df.columns.str.lower()\n",
        "drop_na_housing_df.head()"
      ]
    },
    {
      "cell_type": "markdown",
      "source": [
        "**Descriptive Statistics for Prices in Pesos**"
      ],
      "metadata": {
        "id": "qu9dp_S0T0mX"
      }
    },
    {
      "cell_type": "code",
      "source": [
        "drop_na_housing_df['price'].describe()"
      ],
      "metadata": {
        "colab": {
          "base_uri": "https://localhost:8080/"
        },
        "id": "fIxgPq6xM7UH",
        "outputId": "f106a055-6026-4f4e-cbbe-daaeeb3d7a17"
      },
      "execution_count": 111,
      "outputs": [
        {
          "output_type": "execute_result",
          "data": {
            "text/plain": [
              "count         1055.00\n",
              "mean      35323036.65\n",
              "std       87078973.52\n",
              "min         869000.00\n",
              "25%        5453500.00\n",
              "50%       10500000.00\n",
              "75%       27088000.00\n",
              "max     1200000000.00\n",
              "Name: price, dtype: float64"
            ]
          },
          "metadata": {},
          "execution_count": 111
        }
      ]
    },
    {
      "cell_type": "markdown",
      "source": [
        "Convert the Price column values from pesos to USD current rate.\n",
        "\n",
        "\n"
      ],
      "metadata": {
        "id": "8i7d6pezNU0Z"
      }
    },
    {
      "cell_type": "code",
      "source": [
        "##drop_na_housing_df['price']=drop_na_housing_df['price'].apply(lambda x : x*0.018)"
      ],
      "metadata": {
        "colab": {
          "base_uri": "https://localhost:8080/"
        },
        "id": "wOXCzyXp7qQ9",
        "outputId": "a80e6ade-a22b-444c-e86a-88b5a004ebf1"
      },
      "execution_count": 65,
      "outputs": [
        {
          "output_type": "stream",
          "name": "stderr",
          "text": [
            "<ipython-input-65-f4635965c98a>:1: SettingWithCopyWarning: \n",
            "A value is trying to be set on a copy of a slice from a DataFrame.\n",
            "Try using .loc[row_indexer,col_indexer] = value instead\n",
            "\n",
            "See the caveats in the documentation: https://pandas.pydata.org/pandas-docs/stable/user_guide/indexing.html#returning-a-view-versus-a-copy\n",
            "  drop_na_housing_df['price']=drop_na_housing_df['price'].apply(lambda x : x*0.018)\n"
          ]
        }
      ]
    },
    {
      "cell_type": "markdown",
      "source": [
        "**Convert Pesos to USD**"
      ],
      "metadata": {
        "id": "A8b1xdJMkpFz"
      }
    },
    {
      "cell_type": "code",
      "source": [
        "exchange_rate = 0.018\n",
        "drop_na_housing_df ['Price_USD']= drop_na_housing_df['price']* exchange_rate"
      ],
      "metadata": {
        "colab": {
          "base_uri": "https://localhost:8080/"
        },
        "id": "l4oA3IsBhBa9",
        "outputId": "9ff0b769-eab7-480e-90a1-e8a4a8aac6ee"
      },
      "execution_count": 112,
      "outputs": [
        {
          "output_type": "stream",
          "name": "stderr",
          "text": [
            "<ipython-input-112-bee938b24a1a>:2: SettingWithCopyWarning: \n",
            "A value is trying to be set on a copy of a slice from a DataFrame.\n",
            "Try using .loc[row_indexer,col_indexer] = value instead\n",
            "\n",
            "See the caveats in the documentation: https://pandas.pydata.org/pandas-docs/stable/user_guide/indexing.html#returning-a-view-versus-a-copy\n",
            "  drop_na_housing_df ['Price_USD']= drop_na_housing_df['price']* exchange_rate\n"
          ]
        }
      ]
    },
    {
      "cell_type": "code",
      "source": [
        "drop_na_housing_df['Price_USD'].describe()"
      ],
      "metadata": {
        "colab": {
          "base_uri": "https://localhost:8080/"
        },
        "id": "ZcrZ0OLnHcaQ",
        "outputId": "130efb30-89c7-40a4-ef99-24e44a11a9f5"
      },
      "execution_count": 113,
      "outputs": [
        {
          "output_type": "execute_result",
          "data": {
            "text/plain": [
              "count       1055.00\n",
              "mean      635814.66\n",
              "std      1567421.52\n",
              "min        15642.00\n",
              "25%        98163.00\n",
              "50%       189000.00\n",
              "75%       487584.00\n",
              "max     21600000.00\n",
              "Name: Price_USD, dtype: float64"
            ]
          },
          "metadata": {},
          "execution_count": 113
        }
      ]
    },
    {
      "cell_type": "markdown",
      "source": [
        "**Histogram  of Real Estate Prices**"
      ],
      "metadata": {
        "id": "cQXkkGiwU1ic"
      }
    },
    {
      "cell_type": "code",
      "source": [
        "drop_na_housing_df[\"Price_USD\"].plot.hist(bins=25, edgecolor = \"k\", alpha=0.7)\n",
        "plt.title(\"Histogram of Real Estate Prices in USD\")\n",
        "plt.axvline(drop_na_housing_df[\"Price_USD\"].mean(), color = \"yellow\", linestyle = \"dashed\", linewidth = 1)\n",
        "plt.axvline(drop_na_housing_df['Price_USD'].median(), color = 'red', linestyle = \"dashed\", linewidth = 1)\n",
        "plt.xlabel(\"Price in USD\")\n",
        "plt.show()\n"
      ],
      "metadata": {
        "colab": {
          "base_uri": "https://localhost:8080/",
          "height": 472
        },
        "outputId": "55a47665-8800-4a5f-ae4e-b939d0ff4712",
        "id": "07VZmd9hUap-"
      },
      "execution_count": 114,
      "outputs": [
        {
          "output_type": "display_data",
          "data": {
            "text/plain": [
              "<Figure size 640x480 with 1 Axes>"
            ],
            "image/png": "[encoded data removed]"
          },
          "metadata": {}
        }
      ]
    },
    {
      "cell_type": "markdown",
      "source": [
        "The mean (*yellow*) is 63,5815 and the median (*red*) is 189,000 dollars."
      ],
      "metadata": {
        "id": "ZqvE0Hf3jcFR"
      }
    },
    {
      "cell_type": "markdown",
      "source": [
        "**Scatter Plot of Floor Area as a Predictor of Price**"
      ],
      "metadata": {
        "id": "QgTCFBOTVAkM"
      }
    },
    {
      "cell_type": "code",
      "execution_count": 96,
      "metadata": {
        "id": "zW7hsgZpffKr",
        "colab": {
          "base_uri": "https://localhost:8080/",
          "height": 472
        },
        "outputId": "cef83d65-13f1-4768-89bf-f3d247fdfb55"
      },
      "outputs": [
        {
          "output_type": "display_data",
          "data": {
            "text/plain": [
              "<Figure size 640x480 with 1 Axes>"
            ],
            "image/png": "[encoded data removed]"
          },
          "metadata": {}
        }
      ],
      "source": [
        "\n",
        "drop_na_housing_df.plot.scatter(x='floor area', y='Price_USD', s =75, c = \"orange\")\n",
        "plt.title('Floor Area As A Predictor of Price')\n",
        "plt.xlabel('Floor Area (Meters Squared)')\n",
        "plt.ylabel('Price (USD)')\n",
        "plt.show()"
      ]
    },
    {
      "cell_type": "code",
      "source": [
        "drop_na_housing_df['Price_USD'].corr(drop_na_housing_df['floor area'])"
      ],
      "metadata": {
        "colab": {
          "base_uri": "https://localhost:8080/"
        },
        "outputId": "f6b003e2-f56e-4ad6-af04-e8b931265aa0",
        "id": "Cy3z7RuRKOPy"
      },
      "execution_count": 97,
      "outputs": [
        {
          "output_type": "execute_result",
          "data": {
            "text/plain": [
              "0.7275725027984233"
            ]
          },
          "metadata": {},
          "execution_count": 97
        }
      ]
    },
    {
      "cell_type": "markdown",
      "source": [
        "There appears to be a positive correlation prices increase with increase in floor area"
      ],
      "metadata": {
        "id": "Tm4UwNwKVI--"
      }
    },
    {
      "cell_type": "code",
      "source": [],
      "metadata": {
        "id": "WphoBRCAlLsd"
      },
      "execution_count": null,
      "outputs": []
    },
    {
      "cell_type": "markdown",
      "source": [
        "**Bar Plot for Bedrooms and Price_USD**"
      ],
      "metadata": {
        "id": "0R8SpWbtlJnb"
      }
    },
    {
      "cell_type": "code",
      "source": [
        "import matplotlib.pyplot as plt\n",
        "\n",
        "# Create exchange rate\n",
        "exchange_rate = 0.018\n",
        "drop_na_housing_df['Price_USD'] = drop_na_housing_df['price'] * exchange_rate\n",
        "\n",
        "\n",
        "# create plot\n",
        "plot = drop_na_housing_df.groupby('bedrooms')['Price_USD'].mean().plot(kind='bar')\n",
        "\n",
        "# Set title, labels, and display the plot\n",
        "plt.title('Bedrooms vs Price (USD)')\n",
        "plt.xlabel('Number of Bedrooms')\n",
        "plt.ylabel('Average Price (USD)')\n",
        "\n",
        "# Set y-axis scale to linear\n",
        "plot.get_figure().get_axes()[0].set_yscale('linear')\n",
        "\n",
        "plt.show()"
      ],
      "metadata": {
        "colab": {
          "base_uri": "https://localhost:8080/",
          "height": 592
        },
        "id": "4u-XUUVlJBd7",
        "outputId": "2f42650a-ee2c-42cb-e8c5-64a4500cab1b"
      },
      "execution_count": 99,
      "outputs": [
        {
          "output_type": "stream",
          "name": "stderr",
          "text": [
            "<ipython-input-99-ca9e439a4d98>:5: SettingWithCopyWarning: \n",
            "A value is trying to be set on a copy of a slice from a DataFrame.\n",
            "Try using .loc[row_indexer,col_indexer] = value instead\n",
            "\n",
            "See the caveats in the documentation: https://pandas.pydata.org/pandas-docs/stable/user_guide/indexing.html#returning-a-view-versus-a-copy\n",
            "  drop_na_housing_df['Price_USD'] = drop_na_housing_df['price'] * exchange_rate\n"
          ]
        },
        {
          "output_type": "display_data",
          "data": {
            "text/plain": [
              "<Figure size 640x480 with 1 Axes>"
            ],
            "image/png": "[encoded data removed]"
          },
          "metadata": {}
        }
      ]
    },
    {
      "cell_type": "markdown",
      "source": [
        "**Boxplot for Bedrooms and Price_USD**"
      ],
      "metadata": {
        "id": "jIdaTEBYlV-3"
      }
    },
    {
      "cell_type": "code",
      "execution_count": 101,
      "metadata": {
        "id": "F1AQcZlOhVIH",
        "colab": {
          "base_uri": "https://localhost:8080/",
          "height": 465
        },
        "outputId": "bdad27f4-82c6-4ad9-bc72-5c183dfba102"
      },
      "outputs": [
        {
          "output_type": "display_data",
          "data": {
            "text/plain": [
              "<Figure size 640x480 with 1 Axes>"
            ],
            "image/png": "[encoded data removed]"
          },
          "metadata": {}
        }
      ],
      "source": [
        "import seaborn as sns\n",
        "\n",
        "\n",
        "sns.boxplot(x=\"bedrooms\", y=\"Price_USD\", showfliers = True, data=drop_na_housing_df)  # Replace 'housing' with your DataFrame name\n",
        "\n",
        "# Set y-axis scale to linear\n",
        "plt.yscale('linear') # This ensures the y-axis displays actual value\n",
        "\n",
        "plt.show()"
      ]
    },
    {
      "cell_type": "markdown",
      "source": [
        "**Additional Correlations**"
      ],
      "metadata": {
        "id": "QOKaylroKVdW"
      }
    },
    {
      "cell_type": "code",
      "source": [
        "#Calculate correlations\n",
        "correlations = drop_na_housing_df[['price', 'floor area', 'bathrooms', 'bedrooms']].corr()\n",
        "\n",
        "print(correlations)"
      ],
      "metadata": {
        "colab": {
          "base_uri": "https://localhost:8080/"
        },
        "id": "QzU14O3yZ1Gz",
        "outputId": "600860ff-16a8-45aa-8e9d-bb856ab3434c"
      },
      "execution_count": 102,
      "outputs": [
        {
          "output_type": "stream",
          "name": "stdout",
          "text": [
            "            price  floor area  bathrooms  bedrooms\n",
            "price        1.00        0.73       0.36      0.37\n",
            "floor area   0.73        1.00       0.60      0.65\n",
            "bathrooms    0.36        0.60       1.00      0.63\n",
            "bedrooms     0.37        0.65       0.63      1.00\n"
          ]
        }
      ]
    },
    {
      "cell_type": "markdown",
      "source": [
        "**Selecting the original sample for Bootstrapping**"
      ],
      "metadata": {
        "id": "opPPgsgPHG0G"
      }
    },
    {
      "cell_type": "code",
      "source": [
        "original_sample = drop_na_housing_df['Price_USD'].sample(frac=0.1, replace = True, random_state=123)"
      ],
      "metadata": {
        "id": "ZSt8FxDuHQyg"
      },
      "execution_count": 103,
      "outputs": []
    },
    {
      "cell_type": "code",
      "source": [
        "print(np.median(original_sample))"
      ],
      "metadata": {
        "colab": {
          "base_uri": "https://localhost:8080/"
        },
        "id": "kgkNWbjTHmj2",
        "outputId": "3e8e3d14-5ce2-43b6-d2ed-e055cd4a44bb"
      },
      "execution_count": 77,
      "outputs": [
        {
          "output_type": "stream",
          "name": "stdout",
          "text": [
            "167283.0\n"
          ]
        }
      ]
    },
    {
      "cell_type": "markdown",
      "source": [
        "**Bootstrapping for median_boot_samples**"
      ],
      "metadata": {
        "id": "Bi7HVUaNHxsV"
      }
    },
    {
      "cell_type": "code",
      "source": [
        "median_boot_samples =[]\n",
        "for i in range(1000):\n",
        "  boot_sample = np.random.choice(original_sample, 100)\n",
        "  median_boot_samples.append(np.median(boot_sample))\n",
        "np.mean(median_boot_samples)"
      ],
      "metadata": {
        "colab": {
          "base_uri": "https://localhost:8080/"
        },
        "id": "kt26rsC3H_45",
        "outputId": "4bb43a1f-29bf-4014-809e-b2c7039f5224"
      },
      "execution_count": 104,
      "outputs": [
        {
          "output_type": "execute_result",
          "data": {
            "text/plain": [
              "178371.2898"
            ]
          },
          "metadata": {},
          "execution_count": 104
        }
      ]
    },
    {
      "cell_type": "markdown",
      "source": [
        "**Creating Confidence Intervals from the Bootstrapping Samples**"
      ],
      "metadata": {
        "id": "mFUk4-lPItpR"
      }
    },
    {
      "cell_type": "code",
      "source": [
        "conf_int = np.percentile(median_boot_samples, [2.5, 97.5])\n",
        "conf_int"
      ],
      "metadata": {
        "colab": {
          "base_uri": "https://localhost:8080/"
        },
        "id": "wE4W-uhWIzF0",
        "outputId": "6d3186cb-cf03-421c-a519-64a4901f4561"
      },
      "execution_count": 105,
      "outputs": [
        {
          "output_type": "execute_result",
          "data": {
            "text/plain": [
              "array([140760., 288000.])"
            ]
          },
          "metadata": {},
          "execution_count": 105
        }
      ]
    },
    {
      "cell_type": "code",
      "source": [
        "import seaborn as sns\n",
        "sns.kdeplot(median_boot_samples)\n",
        "for endpoint in conf_int:\n",
        "  plt.axvline(endpoint, color = 'red')"
      ],
      "metadata": {
        "colab": {
          "base_uri": "https://localhost:8080/",
          "height": 445
        },
        "id": "TeJDpEqdMZrQ",
        "outputId": "e471710d-854f-4c7a-ae22-1fe489f31311"
      },
      "execution_count": 106,
      "outputs": [
        {
          "output_type": "display_data",
          "data": {
            "text/plain": [
              "<Figure size 640x480 with 1 Axes>"
            ],
            "image/png": "[encoded data removed]"
          },
          "metadata": {}
        }
      ]
    },
    {
      "cell_type": "markdown",
      "source": [
        "**Conclusion**\n",
        "\n",
        "Our analysis of a sample of this Philippine housing data shows a wide variation\n",
        "in prices, with most prices at the lower range.  \n",
        "\n",
        "The minimum and maximum price of  properties in the dataset is 15,642 / 21,600,000 dollars respectively.\n",
        "\n",
        "While the mean property price is $635,814.00\n",
        "\n",
        "with a large standard deviation of $1,567,422.  \n",
        "\n",
        "Floor area is the best predictor of price; correlations with number of bedrooms and bathrooms are half or less of the correlation with floor area.  \n",
        "\n",
        "Not surprisingly, the larger the dwelling unit, the higher the price."
      ],
      "metadata": {
        "id": "fkGgyvcKRw3w"
      }
    }
  ],
  "metadata": {
    "colab": {
      "provenance": []
    },
    "kernelspec": {
      "display_name": "Python 3",
      "name": "python3"
    },
    "language_info": {
      "name": "python"
    }
  },
  "nbformat": 4,
  "nbformat_minor": 0
}